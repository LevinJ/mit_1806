{
 "cells": [
  {
   "cell_type": "code",
   "execution_count": null,
   "metadata": {
    "collapsed": true
   },
   "outputs": [],
   "source": [
    "import numpy as np"
   ]
  },
  {
   "cell_type": "markdown",
   "metadata": {},
   "source": [
    "1) Perform one of the four types of matrix multiplication in `numpy`. Write your methods for $\\mathbb R^2$."
   ]
  },
  {
   "cell_type": "code",
   "execution_count": null,
   "metadata": {
    "collapsed": true
   },
   "outputs": [],
   "source": []
  },
  {
   "cell_type": "markdown",
   "metadata": {},
   "source": [
    "2) Write this system of linear equations as a matrix equation. Solve by careful inspection of the columns without doing any calculations.\n",
    "\n",
    "\\begin{align}\n",
    "x+3y+2z&=-3\\\\\n",
    "2x+2y+2z&=-2\\\\\n",
    "2x+5y+6z&=-5\n",
    "\\end{align}"
   ]
  },
  {
   "cell_type": "markdown",
   "metadata": {},
   "source": [
    "3) Find a point with $z=2$ on the intersection line of the planes $x+y+3z=6$ and $x-y+z=4$. Find the point with $z=0$. Find a third point halfway between."
   ]
  },
  {
   "cell_type": "markdown",
   "metadata": {},
   "source": [
    "4) What is the 2 by 2 exchange matrix? \n",
    "\n",
    "$$P\\begin{bmatrix}x\\\\ y\\end{bmatrix}=\\begin{bmatrix}y\\\\ x\\end{bmatrix}$$"
   ]
  },
  {
   "cell_type": "markdown",
   "metadata": {},
   "source": [
    "5) What is the 2 by 2 matrix $R$ that rotates every vector by $90^{\\circ}$? \n",
    "\n",
    "$$P\\begin{bmatrix}x\\\\ y\\end{bmatrix}=\\begin{bmatrix}y\\\\ -x\\end{bmatrix}$$"
   ]
  },
  {
   "cell_type": "markdown",
   "metadata": {},
   "source": [
    "6) Use `numpy` to solve $A\\mathbf{x}=\\mathbf{b}$\n",
    "\n",
    "$$A=\\begin{bmatrix}1 & 2 \\\\ 3 & 4\\end{bmatrix} \\ \\ \\ \\ \\mathbf{x}=\\begin{bmatrix}5\\\\-2\\end{bmatrix} \\ \\ \\ \\ \\mathbf{b}=\\begin{bmatrix}1\\\\7\\end{bmatrix}$$"
   ]
  },
  {
   "cell_type": "code",
   "execution_count": null,
   "metadata": {
    "collapsed": true
   },
   "outputs": [],
   "source": []
  },
  {
   "cell_type": "markdown",
   "metadata": {},
   "source": [
    "7) Solve this system by elimination and back substitution\n",
    "\n",
    "\\begin{align}\n",
    "2x+3y&=1\\\\\n",
    "10x+9y&=11\n",
    "\\end{align}\n",
    "\n",
    "Use `numpy` to verify your answer."
   ]
  },
  {
   "cell_type": "code",
   "execution_count": null,
   "metadata": {
    "collapsed": true
   },
   "outputs": [],
   "source": []
  },
  {
   "cell_type": "markdown",
   "metadata": {},
   "source": [
    "8) Choose a right side which gives no solution. Choose another right side that gives infinitely many solutions.\n",
    "\n",
    "\\begin{align}\n",
    "3x+2y&=10\\\\\n",
    "6x+4y&=\n",
    "\\end{align}\n",
    "\n",
    "How does `numpy` tell you there is no answer?"
   ]
  },
  {
   "cell_type": "code",
   "execution_count": null,
   "metadata": {
    "collapsed": true
   },
   "outputs": [],
   "source": []
  },
  {
   "cell_type": "markdown",
   "metadata": {},
   "source": [
    "9) Which number $d$ forces a row exchange, and what is the triangular system (not singular) for that $d$? Which $d$ makes this system singular (no third pivot)?\n",
    "\n",
    "\\begin{matrix}\n",
    "2x+5y+z&=0\\\\\n",
    "4x+dy+z&=2\\\\\n",
    "y-z&=3\n",
    "\\end{matrix}"
   ]
  },
  {
   "cell_type": "markdown",
   "metadata": {},
   "source": [
    "10) For which three values of $a$ is $A$ singular?\n",
    "\n",
    "$$A=\\begin{bmatrix}a & 2 & 3\\\\ a & a & 4 \\\\ a & a & a\\end{bmatrix}$$"
   ]
  },
  {
   "cell_type": "markdown",
   "metadata": {},
   "source": [
    "11) Write down the 3 by  3 matrices that produce these elimination steps:\n",
    "\n",
    "- $E_{21}$ subtracts 5 times row 1 from row 2\n",
    "- $E_{32}$ subtracts -7 times row 2 from row 3.\n",
    "- $P$ exchanges rows 1 and 2, then rows 2 and 3."
   ]
  },
  {
   "cell_type": "markdown",
   "metadata": {},
   "source": [
    "12) Multiply this matrix\n",
    "\n",
    "$$\n",
    "\\begin{bmatrix}\n",
    "0 & 0 & 1 \\\\ \n",
    "0 & 1 & 0 \\\\ \n",
    "1 & 0 & 0\n",
    "\\end{bmatrix}\n",
    "\\begin{bmatrix}\n",
    "1 & 2 & 3 \\\\ \n",
    "4 & 5 & 6 \\\\ \n",
    "7 & 8 & 9\n",
    "\\end{bmatrix}\n",
    "\\begin{bmatrix}\n",
    "0 & 0 & 1 \\\\\n",
    "0 & 1 & 0 \\\\\n",
    "1 & 0 & 0 \n",
    "\\end{bmatrix}\n",
    "=\n",
    "$$\n",
    "\n",
    "and this matrix\n",
    "\n",
    "$$\n",
    "\\begin{bmatrix}\n",
    " 1 & 0 & 0 \\\\\n",
    "-1 & 1 & 0 \\\\\n",
    "-1 & 0 & 1 \n",
    "\\end{bmatrix}\n",
    "\\begin{bmatrix}\n",
    "1 & 2 & 3 \\\\\n",
    "1 & 3 & 1 \\\\\n",
    "1 & 4 & 0 \n",
    "\\end{bmatrix}\n",
    "=\n",
    "$$\n"
   ]
  },
  {
   "cell_type": "markdown",
   "metadata": {},
   "source": [
    "13) Write this problem in matrix form, $A\\mathbf{x}=b$, and solve it\n",
    "\n",
    "$(x,y)=(2,5)$ and $(3,7)$ lie on the line $y=mx+c$. Find $m$ and $c$."
   ]
  },
  {
   "cell_type": "markdown",
   "metadata": {},
   "source": [
    "14) Find the triangular matrix $E$ that reduces \"Pascal's matrix\" to a smaller Pascal:\n",
    "\n",
    "$$E\n",
    "\\begin{bmatrix}\n",
    " 1 & 0 & 0 & 0 \\\\\n",
    " 1 & 1 & 0 & 0 \\\\\n",
    " 1 & 2 & 1 & 0 \\\\\n",
    " 1 & 3 & 3 & 1 \\\\  \n",
    "\\end{bmatrix}\n",
    "=\n",
    "\\begin{bmatrix}\n",
    " 1 & 0 & 0 & 0 \\\\\n",
    " 0 & 1 & 0 & 0 \\\\\n",
    " 0 & 1 & 1 & 0 \\\\\n",
    " 0 & 1 & 2 & 1 \\\\  \n",
    "\\end{bmatrix}\n",
    "$$\n",
    "\n",
    "Which matrix $M$ (multiplying several $E$'s reduces Pascal all the way to $I$?"
   ]
  },
  {
   "cell_type": "markdown",
   "metadata": {},
   "source": [
    "15) Write $M = \\begin{bmatrix}3 & 4 \\\\ 5 & 7\\end{bmatrix}$ as a product of many factors of $A$ and $B$. \n",
    "\n",
    "$$A=\\begin{bmatrix}1 & 0 \\\\ 1 & 1\\end{bmatrix} \\ \\ \\ \\ \\ \\ B=\\begin{bmatrix}1 & 1 \\\\ 0 & 1\\end{bmatrix}$$"
   ]
  },
  {
   "cell_type": "markdown",
   "metadata": {},
   "source": [
    "16) Have a look at the following use of `scipy`'s `lu` solver."
   ]
  },
  {
   "cell_type": "code",
   "execution_count": null,
   "metadata": {
    "collapsed": false
   },
   "outputs": [],
   "source": [
    "import scipy.linalg as sla\n",
    "import numpy.random as rand\n",
    "\n",
    "def random_3_by_3():\n",
    "    return np.reshape(rand.rand(9),(3,3))\n",
    "\n",
    "A = random_3_by_3()\n",
    "\n",
    "P, L, U = sla.lu(A)\n",
    "print(P),\n",
    "print(L),\n",
    "print(U)"
   ]
  },
  {
   "cell_type": "markdown",
   "metadata": {},
   "source": [
    "Find experimentally the first, second, and third pivots (i.e. for a new $A$ on each pass. What do you notice about $U_{11}$, $U_{22}$, and $U_{33}$? \n",
    "\n",
    "**NOTE**: *What we are looking for here is the general trend of the three pivots over possibly hundreds of iterations.*"
   ]
  },
  {
   "cell_type": "code",
   "execution_count": null,
   "metadata": {
    "collapsed": true
   },
   "outputs": [],
   "source": []
  }
 ],
 "metadata": {
  "kernelspec": {
   "display_name": "Python 3",
   "language": "python",
   "name": "python3"
  },
  "language_info": {
   "codemirror_mode": {
    "name": "ipython",
    "version": 3
   },
   "file_extension": ".py",
   "mimetype": "text/x-python",
   "name": "python",
   "nbconvert_exporter": "python",
   "pygments_lexer": "ipython3",
   "version": "3.5.2"
  }
 },
 "nbformat": 4,
 "nbformat_minor": 0
}
