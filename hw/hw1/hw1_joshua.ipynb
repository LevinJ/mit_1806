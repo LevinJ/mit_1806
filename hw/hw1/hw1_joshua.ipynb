{
 "cells": [
  {
   "cell_type": "code",
   "execution_count": 1,
   "metadata": {
    "collapsed": true
   },
   "outputs": [],
   "source": [
    "import numpy as np"
   ]
  },
  {
   "cell_type": "markdown",
   "metadata": {},
   "source": [
    "$$\\newcommand{mmx}[2]{\\left[\\begin{matrix}#1 \\\\ #2\\end{matrix}\\right]}$$ \n",
    "$$\\newcommand{mmxx}[4]{\\left[\\begin{matrix}#1 & #3 \\\\ #2 & #4\\end{matrix}\\right]}$$ \n",
    "$$\\newcommand{mmmx}[3]{\\left[\\begin{matrix} #1 \\\\ #2 \\\\ #3\\end{matrix}\\right]}$$ \n",
    "$$\\newcommand{BMAT}[1]{\\begin{bmatrix}#1\\end{bmatrix}}$$\n",
    "\n",
    "$$\\newcommand{\\u}{\\mathbf{u}}$$ \n",
    "$$\\newcommand{\\v}{\\mathbf{v}}$$ \n",
    "$$\\newcommand{\\w}{\\mathbf{w}}$$ \n",
    "$$\\newcommand{\\R}{\\mathbb{R}}$$"
   ]
  },
  {
   "cell_type": "markdown",
   "metadata": {},
   "source": [
    "1) What combination $c\\mmx{1}{2}+d\\mmx{3}{1}$ produces $\\mmx{14}{8}$? Express this question as two equations for the coefficients $c$ and $d$ in the linear combination."
   ]
  },
  {
   "cell_type": "markdown",
   "metadata": {},
   "source": [
    "\\begin{align}\n",
    "c+3d&=14\\\\\n",
    "2c+d&=8 \\implies -5d=-20 \\implies d=4 \\implies c=2\n",
    "\\end{align}"
   ]
  },
  {
   "cell_type": "markdown",
   "metadata": {},
   "source": [
    "2) Write the solution as a sum using `numpy`."
   ]
  },
  {
   "cell_type": "code",
   "execution_count": 2,
   "metadata": {
    "collapsed": false
   },
   "outputs": [
    {
     "data": {
      "text/plain": [
       "array([14,  8])"
      ]
     },
     "execution_count": 2,
     "metadata": {},
     "output_type": "execute_result"
    }
   ],
   "source": [
    "c = 2\n",
    "d = 4\n",
    "c*np.array([1,2])+d*np.array([3,1])"
   ]
  },
  {
   "cell_type": "markdown",
   "metadata": {},
   "source": [
    "3) Can three vectors in the $xy$ plane (i.e. $\\R^2$) have $\\u\\cdot\\v < 0$, $\\v\\cdot\\w < 0$, and $\\u\\cdot\\w < 0$? I don't know how many vectors in $xyz$ (i.e. $\\R^3$) space can have all negative dot products. (Four of those vectors in the plane would certainly be impossible ...)."
   ]
  },
  {
   "cell_type": "code",
   "execution_count": 3,
   "metadata": {
    "collapsed": true
   },
   "outputs": [],
   "source": [
    "import os\n",
    "os.chdir('../..')\n"
   ]
  },
  {
   "cell_type": "code",
   "execution_count": 4,
   "metadata": {
    "collapsed": false
   },
   "outputs": [],
   "source": [
    "from lib.plot_tools import initialize_2d_plot, draw_2d_vector"
   ]
  },
  {
   "cell_type": "code",
   "execution_count": 5,
   "metadata": {
    "collapsed": false
   },
   "outputs": [
    {
     "data": {
      "text/plain": [
       "-1"
      ]
     },
     "execution_count": 5,
     "metadata": {},
     "output_type": "execute_result"
    }
   ],
   "source": [
    "u = np.array([-1,1])\n",
    "v = np.array([2,1])\n",
    "u.dot(v)"
   ]
  },
  {
   "cell_type": "code",
   "execution_count": 6,
   "metadata": {
    "collapsed": false,
    "scrolled": true
   },
   "outputs": [
    {
     "data": {
      "text/plain": [
       "[<matplotlib.lines.Line2D at 0x7fc16943b7b8>]"
      ]
     },
     "execution_count": 6,
     "metadata": {},
     "output_type": "execute_result"
    },
    {
     "data": {
      "image/png": "[encoded data removed]",
      "text/plain": [
       "<matplotlib.figure.Figure at 0x7fc1694b3cc0>"
      ]
     },
     "metadata": {},
     "output_type": "display_data"
    }
   ],
   "source": [
    "figure_1 = initialize_2d_plot(x_min=-4,x_max=4,y_min=-3,y_max=3)\n",
    "draw_2d_vector(u,figure_1)\n",
    "draw_2d_vector(v,figure_1)\n",
    "indep = np.arange(-4, 4)\n",
    "perp_u = indep\n",
    "perp_v = -4*indep\n",
    "figure_1.plot(indep, perp_u, \"b-\", )\n",
    "figure_1.plot(indep, perp_v, \"r-\", )"
   ]
  },
  {
   "cell_type": "markdown",
   "metadata": {},
   "source": [
    "Note that the blue line is perpendincular to $\\u$. In order for there to be a $\\w$ such that $\\u\\cdot\\w<0$, $\\w$ would have to be on the right side of this line. A line $\\w$ with $\\u\\cdot\\w<0$, would have to be on the left side of the red line. If we let $\\w=(-1,-2)$, then"
   ]
  },
  {
   "cell_type": "code",
   "execution_count": 7,
   "metadata": {
    "collapsed": false
   },
   "outputs": [
    {
     "data": {
      "text/plain": [
       "(-4, -1)"
      ]
     },
     "execution_count": 7,
     "metadata": {},
     "output_type": "execute_result"
    }
   ],
   "source": [
    "w = np.array([-1,-2])\n",
    "v.dot(w), u.dot(w)"
   ]
  },
  {
   "cell_type": "markdown",
   "metadata": {},
   "source": [
    "4) Find four perpendicular unit vectors with all components equal to $\\frac{1}{2}$ or $-\\frac{1}{2}$."
   ]
  },
  {
   "cell_type": "code",
   "execution_count": 8,
   "metadata": {
    "collapsed": true
   },
   "outputs": [],
   "source": [
    "from numpy.linalg import norm"
   ]
  },
  {
   "cell_type": "code",
   "execution_count": 9,
   "metadata": {
    "collapsed": false
   },
   "outputs": [
    {
     "name": "stdout",
     "output_type": "stream",
     "text": [
      "1.0 1.0 1.0 1.0\n",
      "0.0 0.0 0.0 0.0 0.0 0.0\n"
     ]
    }
   ],
   "source": [
    "u_1 = np.array([-.5,.5,.5,.5])\n",
    "u_2 = np.array([.5,-.5,.5,.5])\n",
    "u_3 = np.array([.5,.5,-.5,.5])\n",
    "u_4 = np.array([.5,.5,.5,-.5])\n",
    "print(norm(u_1), norm(u_2), norm(u_3), norm(u_4))\n",
    "print(u_1.dot(u_2), u_1.dot(u_3), u_1.dot(u_4),u_2.dot(u_3), u_2.dot(u_4),u_3.dot(u_4))\n"
   ]
  },
  {
   "cell_type": "markdown",
   "metadata": {},
   "source": [
    "5) Use `numpy` to show that these vectors are unit vectors. "
   ]
  },
  {
   "cell_type": "markdown",
   "metadata": {
    "collapsed": true
   },
   "source": [
    "*See above.*"
   ]
  },
  {
   "cell_type": "markdown",
   "metadata": {
    "collapsed": true
   },
   "source": [
    "6) Find a combination $\\alpha\\u+\\beta\\v+\\gamma\\w$ that gives the zero vector. \n",
    "\n",
    "\\begin{align*}\n",
    "\\mathbf{u}&=\\mmmx{1}{2}{3} & \n",
    "\\mathbf{v}&=\\mmmx{4}{5}{6} & \n",
    "\\mathbf{w}&=\\mmmx{7}{8}{9}\n",
    "\\end{align*}\n",
    "\n",
    "\\begin{align}\n",
    "\\BMAT{ 1 & 4 & 7 \\\\\\\\ 2 & 5 & 8 \\\\\\\\ 3 & 6 & 9}\n",
    "\\mathbf\\gamma&=\n",
    "\\mathbf 0 \\\\\\\\\n",
    "\\BMAT{ 1 & 4 & 7 \\\\\\\\ 0 & -3 & -6 \\\\\\\\ 0 & -6 & -12}\n",
    "\\mathbf\\gamma&=\n",
    "\\mathbf 0\\\\\\\\\n",
    "\\BMAT{ 1 & 4 & 7 \\\\\\\\ 0 & -3 & -6 \\\\\\\\ 0 & 0 & 0}\n",
    "\\mathbf\\gamma&=\n",
    "\\mathbf 0\\\\\n",
    "\\\\end{align}\n",
    "\n",
    "This shows that we have one *free* value. Let $\\gamma_3=1$, then $\\mathbf \\gamma = (1,-2,1)$. \n",
    "\n",
    "Are $\\u$, $\\v$, $\\w$ independent or dependent? Why? \n",
    "\n",
    "These three vectors are not independent, because $\\mathbf u+\\mathbf w = \\mathbf v$.\n",
    "\n",
    "If the three vectors form a matrix $A$ with those columns, is it invertible?\n",
    "\n",
    "The matrix would not be invertible.\n"
   ]
  },
  {
   "cell_type": "markdown",
   "metadata": {},
   "source": [
    "7) Write $A$ as a matrix in `numpy`. Display the matrix. \n",
    "\n",
    "**NOTE:** Conversation about row order vs. column order. "
   ]
  },
  {
   "cell_type": "markdown",
   "metadata": {},
   "source": [
    "## Markov Matrices"
   ]
  },
  {
   "cell_type": "markdown",
   "metadata": {},
   "source": [
    "8) You should do this with `numpy`. Start with the vector $\\u_0 = (1,0)$. Multiply again and again by the same \"Markov matrix\" \n",
    "$A =\\mmxx{.8}{.2}{.3}{.7}$. Find $\\u_i = A\\u_{i-1}$ for $i\\in[1,3]$"
   ]
  },
  {
   "cell_type": "code",
   "execution_count": 12,
   "metadata": {
    "collapsed": true
   },
   "outputs": [],
   "source": [
    "u = np.array([1,0])\n",
    "A = np.array([[.8,.3],[.2,.7]])"
   ]
  },
  {
   "cell_type": "code",
   "execution_count": 17,
   "metadata": {
    "collapsed": false
   },
   "outputs": [
    {
     "name": "stdout",
     "output_type": "stream",
     "text": [
      "[ 0.8  0.2]\n",
      "[ 0.7  0.3]\n",
      "[ 0.65  0.35]\n"
     ]
    }
   ],
   "source": [
    "print(A.dot(u))\n",
    "print(A.dot(A).dot(u))\n",
    "print(A.dot(A).dot(A).dot(u))"
   ]
  },
  {
   "cell_type": "markdown",
   "metadata": {},
   "source": [
    "9) Write a `for` loop to do this through $\\u_7$. What do you notice about $\\u_7$?"
   ]
  },
  {
   "cell_type": "code",
   "execution_count": 18,
   "metadata": {
    "collapsed": false
   },
   "outputs": [
    {
     "data": {
      "text/plain": [
       "array([ 0.60078125,  0.39921875])"
      ]
     },
     "execution_count": 18,
     "metadata": {},
     "output_type": "execute_result"
    }
   ],
   "source": [
    "u_new = A.dot(u)\n",
    "for _ in range(8):\n",
    "    u_new = A.dot(u_new)\n",
    "u_new"
   ]
  },
  {
   "cell_type": "markdown",
   "metadata": {},
   "source": [
    "10) There is a steady-state $\\u_s$ where $A\\u_s=\\u_s$. Find it."
   ]
  },
  {
   "cell_type": "code",
   "execution_count": 19,
   "metadata": {
    "collapsed": false
   },
   "outputs": [
    {
     "data": {
      "text/plain": [
       "array([ 0.6,  0.4])"
      ]
     },
     "execution_count": 19,
     "metadata": {},
     "output_type": "execute_result"
    }
   ],
   "source": [
    "u_new = A.dot(u)\n",
    "for _ in range(100):\n",
    "    u_new = A.dot(u_new)\n",
    "u_new"
   ]
  }
 ],
 "metadata": {
  "kernelspec": {
   "display_name": "Python 3",
   "language": "python",
   "name": "python3"
  },
  "language_info": {
   "codemirror_mode": {
    "name": "ipython",
    "version": 3
   },
   "file_extension": ".py",
   "mimetype": "text/x-python",
   "name": "python",
   "nbconvert_exporter": "python",
   "pygments_lexer": "ipython3",
   "version": "3.5.2"
  }
 },
 "nbformat": 4,
 "nbformat_minor": 0
}
