{
 "cells": [
  {
   "cell_type": "markdown",
   "metadata": {},
   "source": [
    "# Homework #1\n",
    "please make a copy of this homework and rename it with your own name before you begin!\n",
    "File >> Make a Copy"
   ]
  },
  {
   "cell_type": "code",
   "execution_count": 1,
   "metadata": {
    "collapsed": true
   },
   "outputs": [],
   "source": [
    "import numpy as np"
   ]
  },
  {
   "cell_type": "markdown",
   "metadata": {},
   "source": [
    "1) What combination $c\\begin{bmatrix}1 \\\\ 2\\end{bmatrix}+d\\begin{bmatrix}3\\\\1\\end{bmatrix}$ produces $\\begin{bmatrix}14 \\\\ 8\\end{bmatrix}$? Express this question as two equations for the coefficients $c$ and $d$ in the linear combination.\n"
   ]
  },
  {
   "cell_type": "markdown",
   "metadata": {},
   "source": [
    "2) Write the solution as a sum using `numpy`."
   ]
  },
  {
   "cell_type": "code",
   "execution_count": null,
   "metadata": {
    "collapsed": true
   },
   "outputs": [],
   "source": []
  },
  {
   "cell_type": "markdown",
   "metadata": {},
   "source": [
    "3) Can three vectors in the $xy$ plane (i.e. $\\mathbb R^2$) have $\\mathbf u\\cdot\\mathbf v < 0$, $\\mathbf v\\cdot\\mathbf w < 0$, and $\\mathbf u\\cdot\\mathbf w < 0$? I don't know how many vectors in $xyz$ (i.e. $\\mathbb R^3$) space can have all negative dot products. (Four of those vectors in the plane would certainly be impossible ...)."
   ]
  },
  {
   "cell_type": "markdown",
   "metadata": {},
   "source": [
    "4) Find four perpendicular unit vectors with all components equal to $\\frac{1}{2}$ or $-\\frac{1}{2}$."
   ]
  },
  {
   "cell_type": "markdown",
   "metadata": {},
   "source": [
    "5) Use `numpy` to show that these vectors are unit vectors. "
   ]
  },
  {
   "cell_type": "code",
   "execution_count": null,
   "metadata": {
    "collapsed": true
   },
   "outputs": [],
   "source": []
  },
  {
   "cell_type": "markdown",
   "metadata": {
    "collapsed": true
   },
   "source": [
    "6) Find a combination $\\alpha\\mathbf u+\\beta\\mathbf v+\\gamma\\mathbf w$ that gives the zero vector. \n",
    "\n",
    "\\begin{align*}\n",
    "\\mathbf{u}&=\\begin{bmatrix}1 \\\\ 2 \\\\ 3\\end{bmatrix} & \n",
    "\\mathbf{v}&=\\begin{bmatrix}4 \\\\ 5 \\\\ 6\\end{bmatrix} & \n",
    "\\mathbf{w}&=\\begin{bmatrix}7 \\\\ 8 \\\\ 9\\end{bmatrix}\n",
    "\\end{align*}\n",
    "\n",
    "Are $\\mathbf u$, $\\mathbf v$, $\\mathbf w$ independent or dependent? Why? \n",
    "\n",
    "If the three vectors form a matrix $A$ with those columns, is it invertible?\n"
   ]
  },
  {
   "cell_type": "markdown",
   "metadata": {},
   "source": [
    "7) Write $A$ as a matrix in `numpy`. Display the matrix. \n",
    "\n",
    "**NOTE:** Conversation about row order vs. column order. "
   ]
  },
  {
   "cell_type": "markdown",
   "metadata": {},
   "source": [
    "## Markov Matrices"
   ]
  },
  {
   "cell_type": "markdown",
   "metadata": {},
   "source": [
    "8) You should do this with `numpy`. Start with the vector $\\mathbf u_0 = (1,0)$. Multiply again and again by the same \"Markov matrix\" \n",
    "$A =\\begin{bmatrix}.8 & .2 \\\\ .3 & .7\\end{bmatrix}$. Find $\\mathbf u_i = A\\mathbf u_{i-1}$ for $i\\in[1,3]$"
   ]
  },
  {
   "cell_type": "markdown",
   "metadata": {},
   "source": [
    "9) Write a `for` loop to do this through $\\mathbf u_7$. What do you notice about $\\mathbf u_7$?"
   ]
  },
  {
   "cell_type": "markdown",
   "metadata": {},
   "source": [
    "10) There is a steady-state $\\mathbf u_s$ where $A\\mathbf u_s=\\mathbf u_s$. Find it."
   ]
  },
  {
   "cell_type": "code",
   "execution_count": null,
   "metadata": {
    "collapsed": true
   },
   "outputs": [],
   "source": []
  }
 ],
 "metadata": {
  "kernelspec": {
   "display_name": "Python 3",
   "language": "python",
   "name": "python3"
  },
  "language_info": {
   "codemirror_mode": {
    "name": "ipython",
    "version": 3
   },
   "file_extension": ".py",
   "mimetype": "text/x-python",
   "name": "python",
   "nbconvert_exporter": "python",
   "pygments_lexer": "ipython3",
   "version": "3.5.2"
  }
 },
 "nbformat": 4,
 "nbformat_minor": 0
}
