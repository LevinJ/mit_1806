{
 "cells": [
  {
   "cell_type": "markdown",
   "metadata": {},
   "source": [
    "# Vector as an Abstract Data Type\n",
    " \n",
    "- geometrically\n",
    "- analytically\n",
    "- axiomatically\n",
    "\n",
    "Vector Equality\n",
    "\n",
    "length and direction\n",
    "\n",
    "Unit Vectors\n",
    "\n",
    "## Operations\n",
    "\n",
    "- Multiplication by a Scalara\n",
    "- Vector Addition\n",
    "- Dot Product\n",
    "- Cross Product"
   ]
  },
  {
   "cell_type": "markdown",
   "metadata": {},
   "source": [
    "## The Law of Cosines\n",
    "\n",
    "$\n",
    "\\newcommand{\\v}[1]{\\mathbf{#1}}\n",
    "\\begin{align*}\n",
    "\\v{c} &= \\v{a}+\\v{b}\\\\\n",
    "\\v{c}\\cdot\\v{c} &= (\\v{a}+\\v{b})(\\v{a}+\\v{b})\\\\\n",
    "\\rvert c \\rvert^2 &= \\rvert a \\rvert^2  + \\rvert b \\rvert^2 +\\rvert a\\rvert \\rvert b \\rvert \\cos \\theta\n",
    "\\end{align*}\n",
    "$"
   ]
  },
  {
   "cell_type": "markdown",
   "metadata": {},
   "source": [
    "## Fields"
   ]
  },
  {
   "cell_type": "markdown",
   "metadata": {},
   "source": [
    "## Vector Spaces\n",
    "1. Addition\n",
    "2. Scalar Multiplication\n",
    "3. Commutivity\n",
    "4. Associativity\n",
    "5. Additive Identity\n",
    "6. Additive Inverse\n",
    "7. Multiplicative Identity\n",
    "8. Distributive scalar multiplication\n"
   ]
  },
  {
   "cell_type": "markdown",
   "metadata": {},
   "source": [
    "Sethuraman\n",
    "\n",
    "> Sets come equipped with operations addition, multiplication, composition\n",
    "> What properties of a mathematical set can be deduced just from the existence of a given operation on the set with a given list of properties.\n",
    "\n"
   ]
  },
  {
   "cell_type": "code",
   "execution_count": 9,
   "metadata": {
    "collapsed": true
   },
   "outputs": [],
   "source": [
    "import numpy as np\n",
    "import numpy.testing as nt"
   ]
  },
  {
   "cell_type": "code",
   "execution_count": 2,
   "metadata": {
    "collapsed": true
   },
   "outputs": [],
   "source": [
    "a = np.array([1,0])"
   ]
  },
  {
   "cell_type": "code",
   "execution_count": 3,
   "metadata": {
    "collapsed": true
   },
   "outputs": [],
   "source": [
    "b = np.array([0,1])"
   ]
  },
  {
   "cell_type": "code",
   "execution_count": 5,
   "metadata": {
    "collapsed": false
   },
   "outputs": [
    {
     "data": {
      "text/plain": [
       "array([1, 1])"
      ]
     },
     "execution_count": 5,
     "metadata": {},
     "output_type": "execute_result"
    }
   ],
   "source": [
    "a+b"
   ]
  },
  {
   "cell_type": "code",
   "execution_count": 6,
   "metadata": {
    "collapsed": false
   },
   "outputs": [
    {
     "data": {
      "text/plain": [
       "array([4, 0])"
      ]
     },
     "execution_count": 6,
     "metadata": {},
     "output_type": "execute_result"
    }
   ],
   "source": [
    "4*a"
   ]
  },
  {
   "cell_type": "code",
   "execution_count": 11,
   "metadata": {
    "collapsed": false
   },
   "outputs": [],
   "source": [
    "nt.assert_equal(a,a + np.zeros(2))"
   ]
  },
  {
   "cell_type": "code",
   "execution_count": 10,
   "metadata": {
    "collapsed": false
   },
   "outputs": [
    {
     "data": {
      "text/plain": [
       "(1+1j)"
      ]
     },
     "execution_count": 10,
     "metadata": {},
     "output_type": "execute_result"
    }
   ],
   "source": [
    "a = complex(1,1)\n",
    "a"
   ]
  },
  {
   "cell_type": "code",
   "execution_count": 264,
   "metadata": {
    "collapsed": false
   },
   "outputs": [],
   "source": [
    "class Element:\n",
    "    def __init__(self,name):\n",
    "        self.existence = True\n",
    "        self.name      = name\n",
    "        self.simplify()\n",
    "        \n",
    "    def __add__(self, other):\n",
    "        return Element(str(self)+' + '+str(other))\n",
    "    \n",
    "    def __sub__(self,other):\n",
    "        return Element(str(self)+' - '+str(other))\n",
    "    \n",
    "    def __mul__(self, scalar):\n",
    "        return Element(str(scalar)+'*'+str(self))\n",
    "    \n",
    "    def __rmul__(self, scalar):\n",
    "        return Element(str(scalar)+'*'+str(self))\n",
    "    \n",
    "    def __eq__(self,other):\n",
    "        if self.name == other.name:\n",
    "            return True\n",
    "        else: \n",
    "            return False\n",
    "        \n",
    "    def simplify(self):\n",
    "        self.name   = self.name.replace('- ', '+ -')\n",
    "        self.name   = self.name.split(' + ')\n",
    "        names       = []\n",
    "        \n",
    "        for name in self.name:\n",
    "            name    = name.split('*')\n",
    "            if len(name) > 1:\n",
    "                name = (int(name[0])*(name[1]+' '))[:-1]\n",
    "                name = name.split(' ')\n",
    "\n",
    "            names    = names + name\n",
    "        names_set   = set(names)\n",
    "        self.name   = ''\n",
    "        for name in names_set:\n",
    "            name_count = names.count(name)\n",
    "            if self.name == '':\n",
    "                if name_count == 1:\n",
    "                    self.name  = str(name)\n",
    "                else:\n",
    "                    self.name  = str(name_count)+'*'+str(name)\n",
    "            else:\n",
    "                if name_count == 1:\n",
    "                    self.name  = self.name+' + '+str(name)\n",
    "                else:\n",
    "                    self.name  = self.name+' + '+str(name_count)+'*'+str(name)\n",
    "        \n",
    "    def __str__(self):\n",
    "        return str(self.name)            \n",
    "        \n",
    "    def __repr__(self):\n",
    "        return str(self.name)"
   ]
  },
  {
   "cell_type": "code",
   "execution_count": 265,
   "metadata": {
    "collapsed": false
   },
   "outputs": [
    {
     "data": {
      "text/plain": [
       "9*v_1"
      ]
     },
     "execution_count": 265,
     "metadata": {},
     "output_type": "execute_result"
    }
   ],
   "source": [
    "v_1 = Element('v_1')\n",
    "v_2 = Element('5*v_1')\n",
    "(2*v_1 + v_2 + 2*v_1)"
   ]
  },
  {
   "cell_type": "code",
   "execution_count": 266,
   "metadata": {
    "collapsed": false,
    "scrolled": true
   },
   "outputs": [
    {
     "data": {
      "text/plain": [
       "True"
      ]
     },
     "execution_count": 266,
     "metadata": {},
     "output_type": "execute_result"
    }
   ],
   "source": [
    "v_1.existence"
   ]
  },
  {
   "cell_type": "code",
   "execution_count": 267,
   "metadata": {
    "collapsed": false
   },
   "outputs": [
    {
     "data": {
      "text/plain": [
       "6*v_1"
      ]
     },
     "execution_count": 267,
     "metadata": {},
     "output_type": "execute_result"
    }
   ],
   "source": [
    "v_1+v_2"
   ]
  },
  {
   "cell_type": "code",
   "execution_count": 268,
   "metadata": {
    "collapsed": true
   },
   "outputs": [],
   "source": [
    "from math import hypot\n",
    "\n",
    "class Vector:\n",
    "    \n",
    "    def __init__(self, x=0, y=0):\n",
    "        self.x = x\n",
    "        self.y = y\n",
    "        \n",
    "    def __repr__(self):\n",
    "        return 'Vector(%r, %r)' % (self.x, self.y)\n",
    "    \n",
    "    def __eq__(self,other):\n",
    "        if all([self.x==other.x,self.y==other.y]):\n",
    "            return True\n",
    "        else:\n",
    "            return False\n",
    "    \n",
    "    def __abs__(self):\n",
    "        return hypot(self.x, self.y)\n",
    "    \n",
    "    def __add__(self, other):\n",
    "        x = self.x + other.x\n",
    "        y = self.y + other.y\n",
    "        return Vector(x,y)\n",
    "    \n",
    "    def __mul__(self, scalar):\n",
    "        return Vector(self.x * scalar, self.y * scalar)\n",
    "    \n",
    "    def __rmul__(self, scalar):\n",
    "        return Vector(self.x * scalar, self.y * scalar)"
   ]
  },
  {
   "cell_type": "code",
   "execution_count": 269,
   "metadata": {
    "collapsed": false
   },
   "outputs": [
    {
     "data": {
      "text/plain": [
       "Vector(v_1, 5*v_1)"
      ]
     },
     "execution_count": 269,
     "metadata": {},
     "output_type": "execute_result"
    }
   ],
   "source": [
    "v = Vector(v_1,v_2)\n",
    "v"
   ]
  },
  {
   "cell_type": "code",
   "execution_count": 270,
   "metadata": {
    "collapsed": false
   },
   "outputs": [
    {
     "data": {
      "text/plain": [
       "Vector(u_1, u_2)"
      ]
     },
     "execution_count": 270,
     "metadata": {},
     "output_type": "execute_result"
    }
   ],
   "source": [
    "u = Vector(Element('u_1'), Element('u_2'))\n",
    "u"
   ]
  },
  {
   "cell_type": "code",
   "execution_count": 271,
   "metadata": {
    "collapsed": false
   },
   "outputs": [
    {
     "data": {
      "text/plain": [
       "Vector(u_1 + v_1, u_2 + 5*v_1)"
      ]
     },
     "execution_count": 271,
     "metadata": {},
     "output_type": "execute_result"
    }
   ],
   "source": [
    "u + v"
   ]
  },
  {
   "cell_type": "markdown",
   "metadata": {},
   "source": [
    "Fluent Python, overview of special methods, pg. 12"
   ]
  },
  {
   "cell_type": "code",
   "execution_count": 272,
   "metadata": {
    "collapsed": false
   },
   "outputs": [
    {
     "data": {
      "text/plain": [
       "Vector(2*v_1, 2*5)"
      ]
     },
     "execution_count": 272,
     "metadata": {},
     "output_type": "execute_result"
    }
   ],
   "source": [
    "2*v"
   ]
  },
  {
   "cell_type": "code",
   "execution_count": 273,
   "metadata": {
    "collapsed": false
   },
   "outputs": [
    {
     "data": {
      "text/plain": [
       "False"
      ]
     },
     "execution_count": 273,
     "metadata": {},
     "output_type": "execute_result"
    }
   ],
   "source": [
    "w = Vector(2*Element('v_1'),2*Element('v_2'))\n",
    "2*v == w"
   ]
  },
  {
   "cell_type": "code",
   "execution_count": 274,
   "metadata": {
    "collapsed": false
   },
   "outputs": [
    {
     "data": {
      "text/plain": [
       "Vector(2*v_1, 2*v_2)"
      ]
     },
     "execution_count": 274,
     "metadata": {},
     "output_type": "execute_result"
    }
   ],
   "source": [
    "w"
   ]
  },
  {
   "cell_type": "code",
   "execution_count": 275,
   "metadata": {
    "collapsed": false
   },
   "outputs": [
    {
     "data": {
      "text/plain": [
       "Vector(2*v_1, 2*5)"
      ]
     },
     "execution_count": 275,
     "metadata": {},
     "output_type": "execute_result"
    }
   ],
   "source": [
    "2*v"
   ]
  },
  {
   "cell_type": "code",
   "execution_count": 276,
   "metadata": {
    "collapsed": false
   },
   "outputs": [
    {
     "data": {
      "text/plain": [
       "Vector(3*v_1, 5*v_1 + 2*v_2)"
      ]
     },
     "execution_count": 276,
     "metadata": {},
     "output_type": "execute_result"
    }
   ],
   "source": [
    "v+w\n"
   ]
  },
  {
   "cell_type": "code",
   "execution_count": 277,
   "metadata": {
    "collapsed": false
   },
   "outputs": [
    {
     "data": {
      "text/plain": [
       "Vector(u_1 + 3*v_1, u_2 + 5*v_1 + 2*v_2)"
      ]
     },
     "execution_count": 277,
     "metadata": {},
     "output_type": "execute_result"
    }
   ],
   "source": [
    "v+w+u\n"
   ]
  },
  {
   "cell_type": "code",
   "execution_count": 278,
   "metadata": {
    "collapsed": false
   },
   "outputs": [
    {
     "data": {
      "text/plain": [
       "True"
      ]
     },
     "execution_count": 278,
     "metadata": {},
     "output_type": "execute_result"
    }
   ],
   "source": [
    "Element('x_1') == Element('x_1')"
   ]
  },
  {
   "cell_type": "code",
   "execution_count": 294,
   "metadata": {
    "collapsed": false
   },
   "outputs": [],
   "source": [
    "class Vector:\n",
    "    \n",
    "    def __init__(self, name, length, elements=[]):\n",
    "        self.length = length\n",
    "        self.name   = name\n",
    "        if elements == []:\n",
    "            self.elements = [Element(name+'_'+str(i+1)) for i in range(self.length)]\n",
    "        else:\n",
    "            self.elements = [Element(str(element)) for element in elements]\n",
    "        \n",
    "    def __repr__(self):        \n",
    "        return str(self.elements)\n",
    "    \n",
    "    def __eq__(self,other):\n",
    "        if len(self) != len(other):\n",
    "            return False\n",
    "        if all([self_elm == other_elm for self_elm,other_elm in zip(self.elements, other.elements)]):\n",
    "            return True\n",
    "        else:\n",
    "            return False\n",
    "        \n",
    "    def __getitem__(self,key):\n",
    "        return self.elements[key-1]\n",
    "    \n",
    "    def __len__(self):\n",
    "        return len(self.elements)\n",
    "    \n",
    "    \n",
    "    def __add__(self, other):\n",
    "        elements = [self_elm + other_elm for self_elm,other_elm in zip(self.elements, other.elements)]\n",
    "        return Vector(str(self.name)+str(other.name),self.length,elements=elements)\n",
    "    \n",
    "    def __mul__(self, scalar):\n",
    "        return Vector(str(scalar)+'*'+self.name,self.length,[str(scalar)+'*'+str(element) for element in self.elements])\n",
    "    \n",
    "    def __rmul__(self, scalar):\n",
    "        return Vector(str(scalar)+'*'+self.name,self.length,[str(scalar)+'*'+str(element) for element in self.elements])"
   ]
  },
  {
   "cell_type": "code",
   "execution_count": 295,
   "metadata": {
    "collapsed": false
   },
   "outputs": [
    {
     "data": {
      "text/plain": [
       "[v_1, v_2, v_3, v_4, v_5]"
      ]
     },
     "execution_count": 295,
     "metadata": {},
     "output_type": "execute_result"
    }
   ],
   "source": [
    "v = Vector('v',5)\n",
    "v"
   ]
  },
  {
   "cell_type": "code",
   "execution_count": 296,
   "metadata": {
    "collapsed": true
   },
   "outputs": [],
   "source": [
    "other_v = Vector('v',5)"
   ]
  },
  {
   "cell_type": "code",
   "execution_count": 297,
   "metadata": {
    "collapsed": false
   },
   "outputs": [
    {
     "data": {
      "text/plain": [
       "True"
      ]
     },
     "execution_count": 297,
     "metadata": {},
     "output_type": "execute_result"
    }
   ],
   "source": [
    "v == other_v"
   ]
  },
  {
   "cell_type": "code",
   "execution_count": 298,
   "metadata": {
    "collapsed": false
   },
   "outputs": [
    {
     "data": {
      "text/plain": [
       "[2*v_1, 2*v_2, 2*v_3, 2*v_4, 2*v_5]"
      ]
     },
     "execution_count": 298,
     "metadata": {},
     "output_type": "execute_result"
    }
   ],
   "source": [
    "v+other_v"
   ]
  },
  {
   "cell_type": "code",
   "execution_count": 299,
   "metadata": {
    "collapsed": true
   },
   "outputs": [],
   "source": [
    "w = Vector('w',5,['a','b','c','d','e'])"
   ]
  },
  {
   "cell_type": "code",
   "execution_count": 300,
   "metadata": {
    "collapsed": false
   },
   "outputs": [
    {
     "data": {
      "text/plain": [
       "[4*a + v_1, 4*b + v_2, v_3 + 4*c, 4*d + v_4, v_5 + 4*e]"
      ]
     },
     "execution_count": 300,
     "metadata": {},
     "output_type": "execute_result"
    }
   ],
   "source": [
    "v+w*4"
   ]
  },
  {
   "cell_type": "code",
   "execution_count": 302,
   "metadata": {
    "collapsed": false
   },
   "outputs": [
    {
     "data": {
      "text/plain": [
       "[a + 7*v_1, b + 7*v_2, 7*v_3 + c, d + 7*v_4, 7*v_5 + e]"
      ]
     },
     "execution_count": 302,
     "metadata": {},
     "output_type": "execute_result"
    }
   ],
   "source": [
    "4*v+3*other_v+w"
   ]
  },
  {
   "cell_type": "code",
   "execution_count": null,
   "metadata": {
    "collapsed": true
   },
   "outputs": [],
   "source": []
  }
 ],
 "metadata": {
  "kernelspec": {
   "display_name": "Python 3",
   "language": "python",
   "name": "python3"
  },
  "language_info": {
   "codemirror_mode": {
    "name": "ipython",
    "version": 3
   },
   "file_extension": ".py",
   "mimetype": "text/x-python",
   "name": "python",
   "nbconvert_exporter": "python",
   "pygments_lexer": "ipython3",
   "version": "3.5.1"
  }
 },
 "nbformat": 4,
 "nbformat_minor": 0
}
