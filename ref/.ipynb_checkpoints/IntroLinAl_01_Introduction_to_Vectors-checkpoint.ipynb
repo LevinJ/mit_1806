{
 "cells": [
  {
   "cell_type": "markdown",
   "metadata": {},
   "source": [
    "$$\\newcommand{mmx}[2]{\\left[\\begin{matrix}#1 \\\\ #2\\end{matrix}\\right]}$$ \n",
    "$$\\newcommand{mmxx}[4]{\\left[\\begin{matrix}#1 & #3 \\\\ #2 & #4\\end{matrix}\\right]}$$ \n",
    "$$\\newcommand{mmmx}[3]{\\left[\\begin{matrix} #1 \\\\ #2 \\\\ #3\\end{matrix}\\right]}$$ \n",
    "\n",
    "$$\\newcommand{\\u}{\\mathbf{u}}$$ \n",
    "$$\\newcommand{\\v}{\\mathbf{v}}$$ \n",
    "$$\\newcommand{\\w}{\\mathbf{w}}$$\n",
    "$$\\newcommand{\\C}{\\mathbb{C}}$$ \n",
    "$$\\newcommand{\\F}{\\mathbb{F}}$$ \n",
    "$$\\newcommand{\\R}{\\mathbb{R}}$$\n",
    "# Introduction to Vectors"
   ]
  },
  {
   "cell_type": "code",
   "execution_count": 1,
   "metadata": {
    "collapsed": false
   },
   "outputs": [],
   "source": [
    "import numpy as np\n",
    "import matplotlib.pyplot as plt\n",
    "import seaborn\n",
    "%matplotlib inline"
   ]
  },
  {
   "cell_type": "code",
   "execution_count": 2,
   "metadata": {
    "collapsed": false
   },
   "outputs": [],
   "source": [
    "%run ../lib/plot_tools.py"
   ]
  },
  {
   "cell_type": "markdown",
   "metadata": {},
   "source": [
    "## Vectors and Linear Combinations"
   ]
  },
  {
   "cell_type": "markdown",
   "metadata": {},
   "source": [
    "#### Special Linear Combinations"
   ]
  },
  {
   "cell_type": "markdown",
   "metadata": {},
   "source": [
    "### definition: column vector\n",
    "\n",
    "$$\\v =\\mmx{v_1}{v_2}$$"
   ]
  },
  {
   "cell_type": "code",
   "execution_count": 3,
   "metadata": {
    "collapsed": true
   },
   "outputs": [],
   "source": [
    "u = np.array([2,1])\n",
    "v = np.array([3,3])"
   ]
  },
  {
   "cell_type": "code",
   "execution_count": 4,
   "metadata": {
    "collapsed": false,
    "scrolled": true
   },
   "outputs": [
    {
     "data": {
      "image/png": "[encoded data removed]",
      "text/plain": [
       "<matplotlib.figure.Figure at 0x115b09160>"
      ]
     },
     "metadata": {},
     "output_type": "display_data"
    }
   ],
   "source": [
    "figure_1 = initialize_2d_plot()\n",
    "draw_2d_vector(u,figure_1)\n",
    "draw_2d_vector(v,figure_1)"
   ]
  },
  {
   "cell_type": "markdown",
   "metadata": {},
   "source": [
    "### defintion: vector addition\n",
    "If $\\v=\\mmx{v_1}{v_2}$ and $\\w=\\mmx{w_1}{w_2}$ then \n",
    "\n",
    "$$\\v+\\w=\\mmx{v_1+v_2}{w_1+w_2}$$"
   ]
  },
  {
   "cell_type": "code",
   "execution_count": 5,
   "metadata": {
    "collapsed": false
   },
   "outputs": [
    {
     "data": {
      "text/plain": [
       "array([5, 4])"
      ]
     },
     "execution_count": 5,
     "metadata": {},
     "output_type": "execute_result"
    }
   ],
   "source": [
    "u + v"
   ]
  },
  {
   "cell_type": "code",
   "execution_count": 6,
   "metadata": {
    "collapsed": false
   },
   "outputs": [
    {
     "data": {
      "image/png": "[encoded data removed]",
      "text/plain": [
       "<matplotlib.figure.Figure at 0x115b3ba90>"
      ]
     },
     "metadata": {},
     "output_type": "display_data"
    }
   ],
   "source": [
    "figure_2 = initialize_2d_plot()\n",
    "draw_2d_vector(u+v,figure_2)\n",
    "draw_2d_vector_addition(u,v,figure_2)"
   ]
  },
  {
   "cell_type": "markdown",
   "metadata": {},
   "source": [
    "### definition: scalar multiplication\n",
    "If $\\lambda$ is a **scalar**, then \n",
    "\n",
    "$$\\lambda\\v=\\mmx{\\lambda v_1}{\\lambda v_2}$$\n",
    "\n",
    "Also,\n",
    "\n",
    "$$-\\v=\\mmx{-v_1}{-v_2}$$"
   ]
  },
  {
   "cell_type": "code",
   "execution_count": 7,
   "metadata": {
    "collapsed": false
   },
   "outputs": [
    {
     "data": {
      "text/plain": [
       "array([4, 2])"
      ]
     },
     "execution_count": 7,
     "metadata": {},
     "output_type": "execute_result"
    }
   ],
   "source": [
    "2 * u "
   ]
  },
  {
   "cell_type": "code",
   "execution_count": 8,
   "metadata": {
    "collapsed": false
   },
   "outputs": [
    {
     "data": {
      "text/plain": [
       "array([-2, -1])"
      ]
     },
     "execution_count": 8,
     "metadata": {},
     "output_type": "execute_result"
    }
   ],
   "source": [
    "-u"
   ]
  },
  {
   "cell_type": "code",
   "execution_count": 9,
   "metadata": {
    "collapsed": false
   },
   "outputs": [
    {
     "data": {
      "image/png": "[encoded data removed]",
      "text/plain": [
       "<matplotlib.figure.Figure at 0x115d64a90>"
      ]
     },
     "metadata": {},
     "output_type": "display_data"
    }
   ],
   "source": [
    "figure_3 = initialize_2d_plot(x_min=-5,y_min=-5)\n",
    "draw_2d_vector(2*u,figure_3)\n",
    "draw_2d_vector(-u,figure_3)"
   ]
  },
  {
   "cell_type": "markdown",
   "metadata": {},
   "source": [
    "### definition: Linear Combination\n",
    "\n",
    "The sum of $\\alpha \\v+\\beta \\w$ is a **linear combination** of $\\v$ and $\\w$ \n",
    "\n",
    "$$\\alpha \\v+\\beta \\w = \\alpha\\mmx{a}{b}+\\beta\\mmx{c}{d} = \\mmx{\\alpha a+\\beta c}{\\alpha b + \\beta d}$$"
   ]
  },
  {
   "cell_type": "markdown",
   "metadata": {},
   "source": [
    "The vectors $\\alpha \\v$ lie along a line. When $\\w$ is not on that line, the combinations $\\alpha \\v+\\beta \\w$ fill the whole two-dimensional plane.\n",
    "\n",
    "We will be extending these ideas into $n$-dimensional space."
   ]
  },
  {
   "cell_type": "code",
   "execution_count": 10,
   "metadata": {
    "collapsed": false
   },
   "outputs": [
    {
     "data": {
      "text/plain": [
       "array([13, 11])"
      ]
     },
     "execution_count": 10,
     "metadata": {},
     "output_type": "execute_result"
    }
   ],
   "source": [
    "2*u+3*v"
   ]
  },
  {
   "cell_type": "code",
   "execution_count": 11,
   "metadata": {
    "collapsed": false
   },
   "outputs": [
    {
     "data": {
      "image/png": "[encoded data removed]",
      "text/plain": [
       "<matplotlib.figure.Figure at 0x115dd97b8>"
      ]
     },
     "metadata": {},
     "output_type": "display_data"
    }
   ],
   "source": [
    "figure_3 = initialize_2d_plot(x_max=15,y_max=15)\n",
    "draw_2d_vector(2*u+3*v,figure_3)\n",
    "draw_2d_vector_addition(3*v,2*u,figure_3)"
   ]
  },
  {
   "cell_type": "markdown",
   "metadata": {},
   "source": [
    "### Apples and Oranges"
   ]
  },
  {
   "cell_type": "code",
   "execution_count": 12,
   "metadata": {
    "collapsed": false
   },
   "outputs": [
    {
     "name": "stdout",
     "output_type": "stream",
     "text": [
      "u and t are not of the same dimension.\n"
     ]
    }
   ],
   "source": [
    "w = np.array([1,0,1])\n",
    "try:\n",
    "    u+w\n",
    "except ValueError:\n",
    "    print(\"u and t are not of the same dimension.\")  "
   ]
  },
  {
   "cell_type": "markdown",
   "metadata": {},
   "source": [
    "### Adios, Duck Typing"
   ]
  },
  {
   "cell_type": "code",
   "execution_count": 13,
   "metadata": {
    "collapsed": false,
    "scrolled": true
   },
   "outputs": [
    {
     "name": "stdout",
     "output_type": "stream",
     "text": [
      "[2, 1] [2 1] <class 'list'> <class 'numpy.ndarray'>\n",
      "[3, 3] [3 3] <class 'list'> <class 'numpy.ndarray'>\n"
     ]
    }
   ],
   "source": [
    "list_1 = [2,1]\n",
    "list_2 = [3,3]\n",
    "list_1 + list_2\n",
    "print(list_1,u,type(list_1),type(u))\n",
    "print(list_2,v,type(list_2),type(v))"
   ]
  },
  {
   "cell_type": "markdown",
   "metadata": {},
   "source": [
    "### Vectors in Three Dimensions\n",
    "\n",
    "Where $\\v=\\mmmx 1 1 {-2}$ and $\\w=\\mmmx 2 3 4$, then $\\v+\\w=\\mmmx 3 4 2$."
   ]
  },
  {
   "cell_type": "code",
   "execution_count": 14,
   "metadata": {
    "collapsed": false
   },
   "outputs": [
    {
     "data": {
      "image/png": "[encoded data removed]",
      "text/plain": [
       "<matplotlib.figure.Figure at 0x115ea0d30>"
      ]
     },
     "metadata": {},
     "output_type": "display_data"
    }
   ],
   "source": [
    "ax = initialize_3d_plot(z_min=-3,elev=1,azim=89)\n",
    "draw_plane(ax, plane='XY')\n",
    "draw_plane(ax, plane='XZ',y_min=-3)\n",
    "draw_plane(ax, plane='YZ',y_min=-3)\n",
    "draw_3d_vector(ax,1,1,-2)\n",
    "draw_3d_vector(ax,2,3,4)"
   ]
  },
  {
   "cell_type": "markdown",
   "metadata": {},
   "source": [
    "### notation\n",
    "\n",
    "From now on $\\v=\\mmmx 1 1 -2$ will be written at $\\v=(1,1,-2)$"
   ]
  },
  {
   "cell_type": "markdown",
   "metadata": {},
   "source": [
    "### The Important Questions \n",
    "\n",
    "In $\\R^3$,\n",
    "\n",
    "1. What is the picture of all combinations in $c\\u$?\n",
    "1. What is the picture of all combinations in $c\\u+d\\v$?\n",
    "1. What is the picture of all combinations in $c\\u+d\\v+e\\w$?\n",
    "\n",
    "If they are typical non-zero vectors chosen ar random, then here are the three answers:\n",
    "\n",
    "\n",
    "1. The combinations $c\\u$ fill a line.\n",
    "2. The combinations $c\\u+d\\v$ fill a plane.\n",
    "3. The combinations $c\\u +d\\v +e\\w$ fill three-dimensional space.\n",
    "\n",
    "\n"
   ]
  },
  {
   "cell_type": "markdown",
   "metadata": {},
   "source": [
    "### A review of Key Ideas\n",
    "\n",
    "1. A vector $\\v$ in two-dimensional space has two components $v_1$ and $v_2$.\n",
    "2. $\\v + \\w = (v_1 + w_1, v_2 + w_2)$ and $c\\v = (cv_1,cv_2)$ are found a component at a time.\n",
    "3. A linear combination of three vectors $\\u$ and $\\v$ and $\\w$ is $c\\u +d\\v +e\\w$.\n",
    "4. Take all linear combinations of $\\u$, or $\\u$ and $\\v$, or $\\u$, $\\v$, $\\w$. In three dimensions, those combinations typically fill a line, then a plane, and the whole space $\\R^3$."
   ]
  },
  {
   "cell_type": "markdown",
   "metadata": {},
   "source": [
    "### Worked Examples"
   ]
  },
  {
   "cell_type": "markdown",
   "metadata": {},
   "source": [
    "The linear combinations of $\\v = (1, 1,0)$ and $\\w = (0, 1, 1)$ fill a plane. Describe that plane. Find a vector that is not a combination of $\\v$ and $\\w$.\n",
    "\n",
    "The combinations $c\\v+d\\w$ fill a plane in $\\R^3$\n",
    "\n",
    "The vectors in that plane allow any $c$ and $d$. \n",
    "\n",
    "**TODO** Draw the plane $c\\v+d\\w$ using `plot_tools.py`\n",
    "\n",
    "The plane of Figure 1.3 fills in between the \"u-line\" and the \"v-line\".\n",
    "\n",
    "Combinations $c\\v+d\\w=c\\mmmx 1 1 0 + d \\mmmx 0 1 1 = \\mmmx c {c+d} d $ fill a plane. \n",
    "\n",
    "Four particular vectors in that plane are $(0,0,0)$ and $(2,3, 1)$ and $(5,7,2)$ and $(\\pi, 2\\pi, \\pi)$. The second component $c + d$ is always the sum of the first and third components. The vector $(1,2,3)$ is not in the plane."
   ]
  },
  {
   "cell_type": "code",
   "execution_count": 15,
   "metadata": {
    "collapsed": true
   },
   "outputs": [],
   "source": [
    "## p 7"
   ]
  },
  {
   "cell_type": "code",
   "execution_count": null,
   "metadata": {
    "collapsed": true
   },
   "outputs": [],
   "source": []
  }
 ],
 "metadata": {
  "kernelspec": {
   "display_name": "Python 3",
   "language": "python",
   "name": "python3"
  },
  "language_info": {
   "codemirror_mode": {
    "name": "ipython",
    "version": 3
   },
   "file_extension": ".py",
   "mimetype": "text/x-python",
   "name": "python",
   "nbconvert_exporter": "python",
   "pygments_lexer": "ipython3",
   "version": "3.5.2"
  }
 },
 "nbformat": 4,
 "nbformat_minor": 0
}
