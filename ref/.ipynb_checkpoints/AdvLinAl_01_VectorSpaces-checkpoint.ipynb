{
 "cells": [
  {
   "cell_type": "markdown",
   "metadata": {},
   "source": [
    "$$\\newcommand{mmx}[2]{\\left[\\begin{matrix}#1 \\\\ #2\\end{matrix}\\right]}$$ \n",
    "$$\\newcommand{mmxx}[4]{\\left[\\begin{matrix}#1 & #3 \\\\ #2 & #4\\end{matrix}\\right]}$$ \n",
    "$$\\newcommand{mmmx}[3]{\\left[\\begin{matrix} #1 \\\\ #2 \\\\ #3\\end{matrix}\\right]}$$ \n",
    "\n",
    "$$\\newcommand{\\u}{\\mathbf{u}}$$ \n",
    "$$\\newcommand{\\v}{\\mathbf{v}}$$ \n",
    "$$\\newcommand{\\w}{\\mathbf{w}}$$\n",
    "$$\\newcommand{\\C}{\\mathbb{C}}$$ \n",
    "$$\\newcommand{\\F}{\\mathbb{F}}$$ \n",
    "$$\\newcommand{\\R}{\\mathbb{R}}$$\n",
    "# Advanced Linear Algebra\n",
    "\n",
    "## Vector Spaces\n",
    "\n",
    "\n",
    "### $\\R^n$ and $\\C^n$\n",
    "\n",
    "#### definition: complex numbers\n",
    "\n",
    "$i=\\sqrt{-1}$.\n",
    "\n",
    "A complex number is an ordered pair $(a,b)$ where $a,b\\in\\R$. We will write this as $a+bi$.\n",
    "\n",
    "The set of all complex numbers is denoted by $\\C$:\n",
    "\n",
    "$$\\C = \\{a+bi: a,b\\in\\R\\}$$\n",
    "\n",
    "**Addition** and **multiplication** on $\\C$ are defined by\n",
    "\n",
    "\\begin{align}\n",
    "(a+bi) + (c+di) &= (a+c) + (b+d)i\\\\\n",
    "(a+bi)(c+di) &= (ac-bd) + (ad+bc)i\n",
    "\\end{align}\n",
    "\n",
    "here $a,b,c,d\\in\\R$. "
   ]
  },
  {
   "cell_type": "markdown",
   "metadata": {},
   "source": [
    "#### Properties of complex arithmetic\n",
    "For all $\\alpha,\\beta,\\lambda\\in\\C$:\n",
    "\n",
    "##### commutativity\n",
    "$$\\alpha+\\beta=\\beta+\\alpha \\text{ and } \\alpha\\beta=\\beta\\alpha$$\n",
    "\n",
    "##### associativity\n",
    "$$(\\alpha+\\beta)+\\lambda = \\alpha+(\\beta+\\lambda) \\text{ and } (\\alpha\\beta)\\lambda = \\alpha(\\beta\\lambda)$$\n",
    "\n",
    "##### identities\n",
    "$$\\lambda+0=\\lambda \\text{ and } \\lambda1=\\lambda$$\n",
    "\n",
    "##### additive inverse\n",
    "$$\\text{for every } \\alpha \\text{, there exists a unique } \\beta\n",
    "\\text{ such that } \\alpha + \\beta = 0$$\n",
    "\n",
    "##### multiplicative inverse\n",
    "$$\\text{for every }\\alpha\\neq0 \\text{, there exists a unique }\\beta \\text{ such that } \\alpha\\beta=1$$\n",
    "\n",
    "##### distributive property\n",
    "$$\\lambda(\\alpha+\\beta) = \\lambda\\alpha+\\lambda\\beta$$\n",
    "\n",
    "\n",
    "**NOTE: EACH OF THE ABOVE CAN BE PROVEN, BUT IS LEFT AS AN EXERCISE**\n",
    "\n",
    "For example:\n",
    "\n",
    "##### Proof: $\\alpha\\beta=\\beta\\alpha$ for all $\\alpha,\\beta\\in\\C$\n",
    "\n",
    "Suppose $\\alpha=a+bi$ and $\\beta=c+di$ where $a,b,c,d \\in\\R$. Then\n",
    "\n",
    "\\begin{align}\n",
    "\\alpha\\beta &= (a+bi)(c+di)\\\\\n",
    "            &= (ac - bd) + (ad + bc)i\\\\\n",
    "            &= (ac - bd) + (ad + bc)i\\\\\n",
    "            &= (ca - db) + (cb + da)i\\\\\n",
    "            &= (c + di)(a + bi)\\\\\n",
    "            &= \\beta\\alpha\n",
    "\\end{align}"
   ]
  },
  {
   "cell_type": "markdown",
   "metadata": {},
   "source": [
    "#### definition: $-\\alpha$, subtraction, $1/alpha$, division\n",
    "\n",
    "Let $\\alpha,\\beta\\in\\C$\n",
    "\n",
    "Let $-\\alpha$ denote the additive inverse of $\\alpha$. Thus $-\\alpha$ is the unique complex number such that\n",
    "\n",
    "$$\\alpha+(-\\alpha) = 0$$\n",
    "\n",
    "**Subtraction** on $\\C$ is defined by \n",
    "\n",
    "$$\\beta-\\alpha=\\beta+(-\\alpha)$$\n",
    "  \n",
    "For $\\alpha\\neq0$, let $1/\\alpha$ denote the multiplicative inverse of $\\alpha$ Thus $1/\\alpha$ is the unique complex number such that\n",
    "\n",
    "$$\\alpha(1/\\alpha)=1$$\n",
    "\n",
    "**Division** on $\\C$ is defined by\n",
    "\n",
    "$$\\beta/\\alpha=\\beta(1/\\alpha)$$"
   ]
  },
  {
   "cell_type": "markdown",
   "metadata": {},
   "source": [
    "#### notation: $\\F$\n",
    "$\\F$ stands for either $\\R$ or $\\C$ where the distinction is not necessary. \n",
    "\n",
    "The elements of $\\F$ are typically called **scalars**.\n",
    "\n",
    "**NOTE**: $\\F$ for fields."
   ]
  },
  {
   "cell_type": "markdown",
   "metadata": {},
   "source": [
    "#### defintion: list, length\n",
    "Suppose $n$ is a nonnegative integer. A *list* of *length* $n$ is an ordered collection of $n$ elements (which might be numbers, other lists, or more abstract entities) separated by commas and surrounded by parentheses. A list of length $n$ looks like this:        \n",
    "      $$(x_1,...,x_n)$$\n",
    "Two lists are equal if and only if they have the same length and the same elements in the same order.  \n",
    "\n",
    "A list of length $n$ can also be called an $n$-**tuple**.\n",
    "\n"
   ]
  },
  {
   "cell_type": "markdown",
   "metadata": {},
   "source": [
    "#### definition: $\\F^n$\n",
    "$\\F^n$ is the set of all lists of length $n$ of elements of $\\F$:\n",
    "  \n",
    "$$\\F^n = {(x_1,...,x_n): x_j \\in \\R \\text{ for } j \\in (1,n)}$$\n",
    "\n",
    "For $(x_1,...,x_n) \\in \\F^n$ and $j \\in \\{1,...,n\\}$ we say that $x_j$ is the $j^{th}$ *coordinate* of $(x_1,...,x_n)$."
   ]
  },
  {
   "cell_type": "markdown",
   "metadata": {},
   "source": [
    "#### definition: addition in $\\F^n$\n",
    "Addition in $\\F^n$ is defined by adding corresponding coordinates:\n",
    "  \n",
    "$$(x_1,...,x_n) + (y_1,...,y_n) = (x_1 + y_1,...,x_n + y_n)$$"
   ]
  },
  {
   "cell_type": "markdown",
   "metadata": {},
   "source": [
    "#### Commutivity of addition in $\\F^n$\n",
    "  \n",
    "If $x, y \\in \\F^n$, then $x+y=y+x$.\n",
    "\n",
    "##### Proof\n",
    "\n",
    "Suppose $x=(x_1,\\dots,x_n)$ and $y=(y_1,\\dots,y_n)$. Then\n",
    "\n",
    "\\begin{align}\n",
    "x+y &= (x_1,\\dots,x_n) + (y_1,\\dots,y_n)\\\\\n",
    "    &= (x_1+y_1,\\dots,x_n+y_n) \\tag{by definition of $\\R^n$}\\\\\n",
    "    &= (y_1+x_1,\\dots,y_n+x_n) \\tag{by usual commutivity of addition}\\\\\n",
    "    &= (y_1,\\dots,y_n) + (x_1,\\dots,x_n) \\tag{by definition of $\\R^n$}\\\\\n",
    "    &= y+x\n",
    "\\end{align}"
   ]
  },
  {
   "cell_type": "markdown",
   "metadata": {},
   "source": [
    "#### definition: $0$\n",
    "Let $0$ denote the list of length $n$ whose coordinates are all $0$:\n",
    "\n",
    "$$0=(0,\\dots,0)$$"
   ]
  },
  {
   "cell_type": "markdown",
   "metadata": {},
   "source": [
    "#### definition: additive inverse in $\\F^n$\n",
    "\n",
    "For $x\\in\\F^n$, the **additive inverse** of $x$, denotes $-x$, is the vector $-x\\in\\F^n$ such that\n",
    "\n",
    "$$x + (-x) = 0$$\n",
    "\n",
    "In other words, if $x=(x_1,\\dots,x_n)$, then $-x=(-x_1,\\dots,-x_n)$."
   ]
  },
  {
   "cell_type": "markdown",
   "metadata": {},
   "source": [
    "#### definition: scalar multiplication in $\\F^n$\n",
    "\n",
    "The **product** of a number $\\lambda$ and a vector $\\F^n$ is computed by multiplying each coordinate of the vector by $\\lambda$:\n",
    "\n",
    "$$\\lambda(x_1,\\dots,x_n) = (\\lambda x_1,\\dots,\\lambda x_n);$$\n",
    "\n",
    "Here $\\lambda \\in \\F$ and $(x_1,\\dots,x_n)\\in\\F$."
   ]
  },
  {
   "cell_type": "markdown",
   "metadata": {},
   "source": [
    "## Definition of Vector Space\n",
    "\n",
    "### definition: addition, scalar multiplication\n",
    "\n",
    "An **addition** on a set $V$ is a function that assigns an element $u+v\\in V$ to each pair of elements $u,v\\in V$.\n",
    "\n",
    "A **scalar multiplication** on a set $V$ is a function that assigns an element $\\lambda v \\in V$ to each $\\lambda \\in \\F$ and each $v \\in V$."
   ]
  },
  {
   "cell_type": "markdown",
   "metadata": {},
   "source": [
    "### defintion: vector space\n",
    "A **vector space** is a set $V$ along with an addition on $V$ and a scalar multiplication on $V$ such that the following properties hold: \n",
    "\n",
    "#### commutativity\n",
    "$$u+v=v+u \\text{ for all } u,v\\in V$$\n",
    "\n",
    "#### associativity\n",
    "$$(u+v)+w=u+(v+w) \\text{ and } (ab)v = a(bv) \\text{ for all } u,v,w\\in V \\text{ and all } a,b\\in\\F$$\n",
    "\n",
    "#### additive identity\n",
    "$$\\text{ there exists an elemet }0\\in V \\text{ such that } v+0=v \\text{ for all }v\\in V$$\n",
    "\n",
    "#### additive inverse\n",
    "$$\\text{ for every } v\\in V \\text{, there exists } w\\in V \\text{ such that }v+w=0$$\n",
    "\n",
    "#### multiplicative identity\n",
    "$$1v=v \\text{ for all } v\\in V$$\n",
    "\n",
    "#### distributive properties\n",
    "$$a(u+v) = au+av \\text{ and } (a+b)v=av+bv \\text{ for all }a,b\\in\\F \\text{ and all } u,v\\in V$$"
   ]
  },
  {
   "cell_type": "markdown",
   "metadata": {},
   "source": [
    "### definition: vector, point\n",
    "Elements fo a vector spaces are called **vectors** or **points**."
   ]
  },
  {
   "cell_type": "markdown",
   "metadata": {},
   "source": [
    "### definition: real vector space, complex vector space\n",
    "A vector space over $\\R$ is called a **real vector space**.\n",
    "\n",
    "A vector space over $\\C$ is called a **complex vector space**.\n",
    "\n",
    "Usually the choice of $\\F$ is either obvious from the context or irrelevant."
   ]
  },
  {
   "cell_type": "markdown",
   "metadata": {},
   "source": [
    "### notation: $\\F^S$\n",
    "\n",
    "If $S$ is a set, then $\\F^S$ denotes the set of functions from $S$ to $\\F$.\n",
    "\n",
    "For $f,g\\in\\F^S$, the sum $f+g\\in\\F^S$ is the function defined by\n",
    "\n",
    "$$(f + g)(x) = f(x) + g(x)$$\n",
    "\n",
    "for all $x \\in S$.\n",
    "\n",
    "For $\\lambda\\in\\F$ and $f \\in\\F^S$, the product $\\lambda f \\in F^S$ is the function defined \n",
    "\n",
    "$$(\\lambda f)(x)=\\lambda f(x)$$\n",
    "\n",
    "by for all $x \\in S$."
   ]
  },
  {
   "cell_type": "code",
   "execution_count": 1,
   "metadata": {
    "collapsed": true
   },
   "outputs": [],
   "source": [
    "### p. 15"
   ]
  },
  {
   "cell_type": "code",
   "execution_count": null,
   "metadata": {
    "collapsed": true
   },
   "outputs": [],
   "source": []
  }
 ],
 "metadata": {
  "kernelspec": {
   "display_name": "Python 3",
   "language": "python",
   "name": "python3"
  },
  "language_info": {
   "codemirror_mode": {
    "name": "ipython",
    "version": 3
   },
   "file_extension": ".py",
   "mimetype": "text/x-python",
   "name": "python",
   "nbconvert_exporter": "python",
   "pygments_lexer": "ipython3",
   "version": "3.5.2"
  }
 },
 "nbformat": 4,
 "nbformat_minor": 0
}
