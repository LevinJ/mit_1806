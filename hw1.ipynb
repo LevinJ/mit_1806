{
 "cells": [
  {
   "cell_type": "code",
   "execution_count": 1,
   "metadata": {
    "collapsed": true
   },
   "outputs": [],
   "source": [
    "import numpy as np"
   ]
  },
  {
   "cell_type": "markdown",
   "metadata": {},
   "source": [
    "$$\\newcommand{mmx}[2]{\\left[\\begin{matrix}#1 \\\\ #2\\end{matrix}\\right]}$$ \n",
    "$$\\newcommand{mmxx}[4]{\\left[\\begin{matrix}#1 & #3 \\\\ #2 & #4\\end{matrix}\\right]}$$ \n",
    "$$\\newcommand{mmmx}[3]{\\left[\\begin{matrix} #1 \\\\ #2 \\\\ #3\\end{matrix}\\right]}$$ \n",
    "\n",
    "$$\\newcommand{\\u}{\\mathbf{u}}$$ \n",
    "$$\\newcommand{\\v}{\\mathbf{v}}$$ \n",
    "$$\\newcommand{\\w}{\\mathbf{w}}$$ \n",
    "$$\\newcommand{\\R}{\\mathbb{R}}$$"
   ]
  },
  {
   "cell_type": "markdown",
   "metadata": {},
   "source": [
    "1) What combination $c\\mmx{1}{2}+d\\mmx{3}{1}$ produces $\\mmx{14}{8}$? Express this question as two equations for the coefficients $c$ and $d$ in the linear combination.\n"
   ]
  },
  {
   "cell_type": "markdown",
   "metadata": {},
   "source": [
    "2) Write the solution as a sum using `numpy`."
   ]
  },
  {
   "cell_type": "code",
   "execution_count": null,
   "metadata": {
    "collapsed": true
   },
   "outputs": [],
   "source": []
  },
  {
   "cell_type": "markdown",
   "metadata": {},
   "source": [
    "3) Can three vectors in the $xy$ plane (i.e. $\\R^2$) have $\\u\\cdot\\v < 0$, $\\v\\cdot\\w < 0$, and $\\u\\cdot\\w < 0$? I don't know how many vectors in $xyz$ (i.e. $\\R^3$) space can have all negative dot products. (Four of those vectors in the plane would certainly be impossible ...)."
   ]
  },
  {
   "cell_type": "markdown",
   "metadata": {},
   "source": [
    "4) Find four perpendicular unit vectors with all components equal to $\\frac{1}{2}$ or $-\\frac{1}{2}$."
   ]
  },
  {
   "cell_type": "markdown",
   "metadata": {},
   "source": [
    "5) Use `numpy` to show that these vectors are unit vectors. "
   ]
  },
  {
   "cell_type": "code",
   "execution_count": null,
   "metadata": {
    "collapsed": true
   },
   "outputs": [],
   "source": []
  },
  {
   "cell_type": "markdown",
   "metadata": {
    "collapsed": true
   },
   "source": [
    "6) Find a combination $\\alpha\\u+\\beta\\v+\\gamma\\w$ that gives the zero vector. \n",
    "\n",
    "\\begin{align*}\n",
    "\\mathbf{u}&=\\mmmx{1}{2}{3} & \n",
    "\\mathbf{v}&=\\mmmx{4}{5}{6} & \n",
    "\\mathbf{w}&=\\mmmx{7}{8}{9}\n",
    "\\end{align*}\n",
    "\n",
    "Are $\\u$, $\\v$, $\\w$ independent or dependent? Why? \n",
    "\n",
    "If the three vectors form a matrix $A$ with those columns, is it invertible?\n"
   ]
  },
  {
   "cell_type": "markdown",
   "metadata": {},
   "source": [
    "7) Write $A$ as a matrix in `numpy`. Display the matrix. \n",
    "\n",
    "**NOTE:** Conversation about row order vs. column order. "
   ]
  },
  {
   "cell_type": "markdown",
   "metadata": {},
   "source": [
    "## Markov Matrices"
   ]
  },
  {
   "cell_type": "markdown",
   "metadata": {},
   "source": [
    "8) You should do this with `numpy`. Start with the vector $\\u_0 = (1,0)$. Multiply again and again by the same \"Markov matrix\" \n",
    "$A =\\mmxx{.8}{.2}{.3}{.7}$. Find $\\u_i = A\\u_{i-1}$ for $i\\in[1,3]$"
   ]
  },
  {
   "cell_type": "markdown",
   "metadata": {},
   "source": [
    "9) Write a `for` loop to do this through $\\u_7$. What do you notice about $\\u_7$?"
   ]
  },
  {
   "cell_type": "markdown",
   "metadata": {},
   "source": [
    "10) There is a steady-state $\\u_s$ where $A\\u_s=\\u_s$. Find it."
   ]
  },
  {
   "cell_type": "code",
   "execution_count": null,
   "metadata": {
    "collapsed": true
   },
   "outputs": [],
   "source": []
  }
 ],
 "metadata": {
  "kernelspec": {
   "display_name": "Python 3",
   "language": "python",
   "name": "python3"
  },
  "language_info": {
   "codemirror_mode": {
    "name": "ipython",
    "version": 3
   },
   "file_extension": ".py",
   "mimetype": "text/x-python",
   "name": "python",
   "nbconvert_exporter": "python",
   "pygments_lexer": "ipython3",
   "version": "3.5.2"
  }
 },
 "nbformat": 4,
 "nbformat_minor": 0
}
