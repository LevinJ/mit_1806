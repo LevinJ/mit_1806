{
 "cells": [
  {
   "cell_type": "code",
   "execution_count": 1,
   "metadata": {
    "collapsed": true
   },
   "outputs": [],
   "source": [
    "import numpy as np"
   ]
  },
  {
   "cell_type": "markdown",
   "metadata": {},
   "source": [
    "$$\\newcommand{mx}[2]{\\left[\\begin{matrix}#1 \\\\ #2\\end{matrix}\\right]}$$\n",
    "$$\\newcommand{\\R}{\\mathbb{R}}$$"
   ]
  },
  {
   "cell_type": "markdown",
   "metadata": {},
   "source": [
    "What combination $c\\mx{1}{2}+d\\mx{3}{1}$ produces $\\mx{14}{8}$? Express this question as two equations for the coefficients $c$ and $d$ in the linear combination.\n"
   ]
  },
  {
   "cell_type": "markdown",
   "metadata": {},
   "source": [
    "Write the solution as a sum using `numpy`."
   ]
  },
  {
   "cell_type": "code",
   "execution_count": null,
   "metadata": {
    "collapsed": true
   },
   "outputs": [],
   "source": []
  },
  {
   "cell_type": "markdown",
   "metadata": {},
   "source": [
    "Can three vectors in the $xy$ plane (i.e. $\\R^2$) have $\\mathbf{u}\\cdot\\mathbf{v} < 0$, $\\mathbf{v}\\cdot\\mathbf{w} < 0$, and $\\mathbf{u}\\cdot\\mathbf{w} < 0$? I don't know how many vectors in $xyz$ (i.e. $\\R^3$) space can have all negative dot products. (Four of those vectors in the plane would certainly be impossible ...)."
   ]
  },
  {
   "cell_type": "markdown",
   "metadata": {},
   "source": [
    "Find four perpendicular unit vectors with all components equal to $\\frac{1}{2}$ or $-\\frac{1}{2}$."
   ]
  },
  {
   "cell_type": "code",
   "execution_count": null,
   "metadata": {
    "collapsed": true
   },
   "outputs": [],
   "source": []
  }
 ],
 "metadata": {
  "kernelspec": {
   "display_name": "Python 3",
   "language": "python",
   "name": "python3"
  },
  "language_info": {
   "codemirror_mode": {
    "name": "ipython",
    "version": 3
   },
   "file_extension": ".py",
   "mimetype": "text/x-python",
   "name": "python",
   "nbconvert_exporter": "python",
   "pygments_lexer": "ipython3",
   "version": "3.5.2"
  }
 },
 "nbformat": 4,
 "nbformat_minor": 0
}
